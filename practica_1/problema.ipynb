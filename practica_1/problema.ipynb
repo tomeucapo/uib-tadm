{
 "cells": [
  {
   "cell_type": "markdown",
   "metadata": {},
   "source": [
    "1. Crea un diccionario donde la clave sea el nombre de una categor´ıa de producto y el valor sea una lista de tuplas. Cada tupla contendr´ a el nombre del producto, el precio y la cantidad en stock"
   ]
  },
  {
   "cell_type": "code",
   "execution_count": null,
   "metadata": {},
   "outputs": [],
   "source": [
    "articulos = {'ARE': [('(MS) GRAVA NÂº0 TN PORT (cam rigido) UNE-EN 12620:2002,13043:2002 CE BV certif 1035/CPR/ES035609', 1.000, 9), \n",
    "                     ('(MS) GRAVA NÂº0 TN PORT UNE-EN 12620:2002,13043:2002 CE Bureau Veritas certif 1035/CPR/ES035609', 2.000, 4), \n",
    "                     ('(MS) GRAVA NÂº0 TN UNE-EN 12620:2002,13043:2002 CE Bureau Veritas certif 1035/CPR/ES035609', 12.000, 5)], \n",
    "             'ARP': [('* GRAVA 0/1 MEZCLA PORTADA TN', 8.740, 7), \n",
    "                     ('* GRAVA 0/1 MEZCLA PORTADA TN', 5.250, 3), \n",
    "                     ('* GRAVA 0/1 MEZCLA TN', 5.250, 7)], \n",
    "             'RCM': [('09-1428 TURBO HOSE - 6404177-11428', 35.158, 4), \n",
    "                     ('2 LATIGUILLO HIDRAULICOS - 205008', 322.530, 5), \n",
    "                     ('2 LATIGUILLOS - 202021', 31.200, 1)], \n",
    "             'HRM': [('2 MINI RODILLOS VELOUR 6CM - 8083', 1.750, 4), \n",
    "                     ('ACCESORIO ATORNILLADOR VASO 7MM M-4 MAKITA - 00198550', 5.000, 5), \n",
    "                     ('ADAPTADOR MANOMETRO MF M 16-200 X HF1/4 - RAYRM171604', 9.520, 0)], \n",
    "             'ENV': [('BARRAS MADERA (tipo palet)', 3.100, 10), \n",
    "                     ('BIDON 10-12 L - BOCA ANCHA 90 MM', 6.992, 10), \n",
    "                     ('BIDON 20L  REF  603358/ 672002', 19.600, 1), \n",
    "                     ('BIDON CANULA 30L HOMOLOGADO IMGD - ADR - RID - 718452009', 14.454, 10)]}"
   ]
  },
  {
   "cell_type": "markdown",
   "metadata": {},
   "source": [
    "2. Crea una función que calcule el valor total de inventario por categoría (precio por cantidad para cada producto)"
   ]
  },
  {
   "cell_type": "code",
   "execution_count": null,
   "metadata": {},
   "outputs": [
    {
     "data": {
      "text/plain": [
       "{'ARE': 77.0, 'ARP': 113.68, 'RCM': 1784.482, 'HRM': 32.0, 'ENV': 265.06000000000006}\n"
      ]
     },
     "metadata": {},
     "output_type": "display_data"
    }
   ],
   "source": [
    "def valorar_por_categoria(cat_articulos:dict) -> dict:\n",
    "    valor_por_categoria = {}\n",
    "    for categoria, articulos in cat_articulos.items():\n",
    "        if categoria not in valor_por_categoria:\n",
    "            valor_por_categoria[categoria] = 0.0\n",
    "\n",
    "        for (_, precio, stock) in articulos:\n",
    "             valor_por_categoria[categoria] += precio*stock\n",
    "             \n",
    "    return valor_por_categoria  \n",
    "\n",
    "categorias_valoradas = valorar_por_categoria(articulos)\n",
    "print(categorias_valoradas)"
   ]
  },
  {
   "cell_type": "markdown",
   "metadata": {},
   "source": [
    "3. Muestra la categoría que tiene el valor total más alto en inventario"
   ]
  },
  {
   "cell_type": "code",
   "execution_count": null,
   "metadata": {},
   "outputs": [
    {
     "data": {
      "text/plain": [
       "RCM\n"
      ]
     },
     "metadata": {},
     "output_type": "display_data"
    }
   ],
   "source": [
    "def categoria_valor_mas_alto(categorias_valoradas:dict) -> str:\n",
    "    categoria_cara = \"\"\n",
    "    valor_maximo = 0\n",
    "    for categoria, valor in categorias_valoradas.items():\n",
    "        if valor > valor_maximo:\n",
    "            valor_maximo = valor\n",
    "            categoria_cara = categoria\n",
    "    return categoria_cara \n",
    "\n",
    "print(categoria_valor_mas_alto(categorias_valoradas))"
   ]
  },
  {
   "cell_type": "markdown",
   "metadata": {},
   "source": [
    "4. Añade una opción para actualizar el stock de un producto en una categoría específica"
   ]
  },
  {
   "cell_type": "code",
   "execution_count": null,
   "metadata": {},
   "outputs": [
    {
     "data": {
      "text/plain": [
       "{'ARE': [('(MS) GRAVA NÃ‚Âº0 TN PORT (cam rigido) UNE-EN 12620:2002,13043:2002 CE BV certif 1035/CPR/ES035609', 1.0, 9), ('(MS) GRAVA NÃ‚Âº0 TN PORT UNE-EN 12620:2002,13043:2002 CE Bureau Veritas certif 1035/CPR/ES035609', 2.0, 4), ('(MS) GRAVA NÃ‚Âº0 TN UNE-EN 12620:2002,13043:2002 CE Bureau Veritas certif 1035/CPR/ES035609', 12.0, 5)], 'ARP': [('* GRAVA 0/1 MEZCLA PORTADA TN', 8.74, 7), ('* GRAVA 0/1 MEZCLA PORTADA TN', 5.25, 3), ('* GRAVA 0/1 MEZCLA TN', 5.25, 7)], 'RCM': [('09-1428 TURBO HOSE - 6404177-11428', 35.158, 4), ('2 LATIGUILLO HIDRAULICOS - 205008', 322.53, 5), ('2 LATIGUILLOS - 202021', 31.2, 1)], 'HRM': [('2 MINI RODILLOS VELOUR 6CM - 8083', 1.75, 4), ('ACCESORIO ATORNILLADOR VASO 7MM M-4 MAKITA - 00198550', 5.0, 5), ('ADAPTADOR MANOMETRO MF M 16-200 X HF1/4 - RAYRM171604', 9.52, 0)], 'ENV': [('BARRAS MADERA (tipo palet)', 3.1, 10), ('BIDON 10-12 L - BOCA ANCHA 90 MM', 6.992, 10), ('BIDON 20L  REF  603358/ 672002', 19.6, 1), ('BIDON CANULA 30L HOMOLOGADO IMGD - ADR - RID - 718452009', 14.454, 10)]}\n",
       "\n",
       "{'ARE': [('(MS) GRAVA NÃ‚Âº0 TN PORT (cam rigido) UNE-EN 12620:2002,13043:2002 CE BV certif 1035/CPR/ES035609', 1.0, 9), ('(MS) GRAVA NÃ‚Âº0 TN PORT UNE-EN 12620:2002,13043:2002 CE Bureau Veritas certif 1035/CPR/ES035609', 2.0, 4), ('(MS) GRAVA NÃ‚Âº0 TN UNE-EN 12620:2002,13043:2002 CE Bureau Veritas certif 1035/CPR/ES035609', 12.0, 5)], 'ARP': [('* GRAVA 0/1 MEZCLA PORTADA TN', 8.74, 7), ('* GRAVA 0/1 MEZCLA PORTADA TN', 5.25, 3), ('* GRAVA 0/1 MEZCLA TN', 5.25, 7)], 'RCM': ('2 LATIGUILLOS - 202021', 31.2, 33), 'HRM': [('2 MINI RODILLOS VELOUR 6CM - 8083', 1.75, 4), ('ACCESORIO ATORNILLADOR VASO 7MM M-4 MAKITA - 00198550', 5.0, 5), ('ADAPTADOR MANOMETRO MF M 16-200 X HF1/4 - RAYRM171604', 9.52, 0)], 'ENV': [('BARRAS MADERA (tipo palet)', 3.1, 10), ('BIDON 10-12 L - BOCA ANCHA 90 MM', 6.992, 10), ('BIDON 20L  REF  603358/ 672002', 19.6, 1), ('BIDON CANULA 30L HOMOLOGADO IMGD - ADR - RID - 718452009', 14.454, 10)]}\n"
      ]
     },
     "metadata": {},
     "output_type": "display_data"
    }
   ],
   "source": [
    "def actualizar_stock(categoria:str, nombre_articulo:str, nuevo_stock:float, articulos:dict):\n",
    "    if categoria not in articulos:\n",
    "        raise Exception(\"La categoria %s no existe!\" % categoria)\n",
    "    \n",
    "    for (nombre,precio, stock) in articulos[categoria]:\n",
    "        if nombre == nombre_articulo:\n",
    "            articulos[categoria] = (nombre, precio, nuevo_stock)\n",
    "            break\n",
    "    \n",
    "actualizar_stock(\"RCM\",\"2 LATIGUILLOS - 202021\", 33, articulos)\n",
    "print(articulos)"
   ]
  }
 ],
 "metadata": {
  "language_info": {
   "name": "python"
  }
 },
 "nbformat": 4,
 "nbformat_minor": 2
}
