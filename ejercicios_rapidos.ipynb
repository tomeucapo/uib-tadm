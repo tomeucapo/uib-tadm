{
 "cells": [
  {
   "cell_type": "markdown",
   "metadata": {},
   "source": [
    "# Practica Introducción de Python\n",
    "\n",
    "Se pueden descargar los ficheros de jupyter del repositorio: https://github.com/tomeucapo/uib-tadm\n",
    "\n",
    "1. Realizar una función que recibe 3 números (d, m, a) que representan una fecha (día, mes y año). El programa debe devolver el día (la fecha) siguiente a la recibida por parámetro. Se debe tener en cuenta los días de cada mes y los años bisiestos."
   ]
  },
  {
   "cell_type": "code",
   "execution_count": null,
   "metadata": {},
   "outputs": [
    {
     "data": {
      "text/plain": [
       "Jueves\n"
      ]
     },
     "metadata": {},
     "output_type": "display_data"
    }
   ],
   "source": [
    "def dia_semana(d:int, m:int, a:int) -> int:\n",
    "    aa = int((14 - m) / 12)\n",
    "    y = a - aa\n",
    "    mm = int(m + (12 * aa) - 2)\n",
    "    return int(d + y + int(y/4) - int(y/100) + int(y/400)+((31*mm) / 12)) % 7\n",
    "\n",
    "dias=[\"Domingo\", \"Lunes\",\"Martes\",\"Miercoles\", \"Jueves\", \"Viernes\", \"Sabado\"]\n",
    "\n",
    "print(dias[dia_semana(29,2,2024)])"
   ]
  },
  {
   "cell_type": "markdown",
   "metadata": {},
   "source": [
    "2. Construye un programa que muestre por pantalla cuantas veces aparece cada una de ellas."
   ]
  },
  {
   "cell_type": "code",
   "execution_count": null,
   "metadata": {},
   "outputs": [
    {
     "data": {
      "text/plain": [
       "Perro 1\n",
       "Gato 1\n",
       "Casa 1\n",
       "Coche 1\n",
       "Arbol 1\n",
       "Sol 1\n",
       "Luna 1\n",
       "Mar 1\n",
       "MontaÃ±a 1\n",
       "RÃ­o 1\n",
       "Playa 1\n",
       "Libro 1\n",
       "Computadora 1\n",
       "TelÃ©fono 1\n",
       "Amigo 1\n",
       "Familia 1\n",
       "Trabajo 1\n",
       "Comida 1\n",
       "PelÃ­cula 1\n",
       "MÃºsica 1\n",
       "Viaje 1\n",
       "Deporte 1\n",
       "Juego 1\n",
       "Amor 1\n",
       "Odio 1\n",
       "Felicidad 1\n",
       "Tristeza 1\n",
       "AlegrÃ­a 1\n",
       "Dolor 1\n",
       "SueÃ±o 1\n",
       "Noche 1\n",
       "DÃ­a 1\n",
       "Agua 1\n",
       "Fuego 1\n",
       "Aire 1\n",
       "Tierra 1\n",
       "Cielo 1\n",
       "Estrella 1\n",
       "Flor 1\n",
       "Fruta 1\n",
       "Verdura 1\n",
       "Chocolate 1\n",
       "CafÃ© 1\n",
       "TÃ© 1\n",
       "Vino 1\n",
       "Cerveza 1\n",
       "Dinero 1\n",
       "Tiempo 1\n",
       "Reloj 2\n"
      ]
     },
     "metadata": {},
     "output_type": "display_data"
    }
   ],
   "source": [
    "palabras_espanol = [\"Perro\", \"Gato\", \"Casa\", \"Coche\",\n",
    " \"Arbol\", \"Sol\", \"Luna\", \"Mar\", \"Montaña\", \"Río\",\n",
    " \"Playa\", \"Libro\", \"Computadora\", \"Teléfono\",\n",
    " \"Amigo\", \"Familia\", \"Trabajo\", \"Comida\", \"Película\",\n",
    " \"Música\", \"Viaje\", \"Deporte\", \"Juego\", \"Amor\", \"Odio\",\n",
    " \"Felicidad\", \"Tristeza\", \"Alegría\", \"Dolor\", \"Sueño\",\n",
    " \"Noche\", \"Día\", \"Agua\", \"Fuego\", \"Aire\", \"Tierra\",\n",
    " \"Cielo\", \"Estrella\", \"Flor\", \"Fruta\", \"Verdura\",\n",
    " \"Chocolate\", \"Café\", \"Té\", \"Vino\", \"Cerveza\",\n",
    " \"Dinero\", \"Tiempo\", \"Reloj\", \"Reloj\"]\n",
    "\n",
    "def contar_palabras(lista_palabras) -> dict:\n",
    "    conta_palabras = {}\n",
    "    for palabra in palabras_espanol:\n",
    "        if palabra not in conta_palabras:\n",
    "            conta_palabras[palabra]=0\n",
    "\n",
    "        conta_palabras[palabra]+=1\n",
    "    return conta_palabras\n",
    "\n",
    "contadores_palabras = contar_palabras(palabras_espanol)\n",
    "\n",
    "for palabra, count in contadores_palabras.items():     \n",
    "    print(palabra, count)"
   ]
  },
  {
   "cell_type": "markdown",
   "metadata": {},
   "source": [
    "3. Dado el siguiente diccionario con informacion del precio de diferentes productos por día:"
   ]
  },
  {
   "cell_type": "code",
   "execution_count": null,
   "metadata": {},
   "outputs": [],
   "source": [
    "precio_origen = {\n",
    " \"cebolla\": [30.3, 20.3, 25.9, 39.0], # c´entimos/kg\n",
    " \"patata\":[0.33, 0.43, 0.34, 0.12], # euro/kg\n",
    " \"naranja\":[0.45, 0.56, 0.38, 0.43] # euro/kg\n",
    " }"
   ]
  },
  {
   "cell_type": "markdown",
   "metadata": {},
   "source": [
    "Responde a las siguientes preguntas:\n",
    "+ ¿Cual es el precio máximo de cada producto?"
   ]
  },
  {
   "cell_type": "code",
   "execution_count": null,
   "metadata": {},
   "outputs": [
    {
     "data": {
      "text/plain": [
       "cebolla 39.0\n",
       "patata 0.43\n",
       "naranja 0.56\n"
      ]
     },
     "metadata": {},
     "output_type": "display_data"
    }
   ],
   "source": [
    "def precio_maximo(precio_origen:dict) -> dict:\n",
    "    precios_maximos = {}\n",
    "    for producto, precios in precio_origen.items():\n",
    "        precios_maximos[producto] = max(precios)\n",
    "    return precios_maximos\n",
    "\n",
    "precios_maximos = precio_maximo(precio_origen)\n",
    "for producto, precio_maximo in precios_maximos.items():\n",
    "    print(producto, precio_maximo)"
   ]
  },
  {
   "cell_type": "markdown",
   "metadata": {},
   "source": [
    "+ ¿Cual es el producto más caro?"
   ]
  },
  {
   "cell_type": "code",
   "execution_count": null,
   "metadata": {},
   "outputs": [
    {
     "data": {
      "text/plain": [
       "naranja\n"
      ]
     },
     "metadata": {},
     "output_type": "display_data"
    }
   ],
   "source": [
    "def producto_caro(precios_maximos:dict) -> str:\n",
    "    producto_caro = \"\"\n",
    "    precio_maximo = 0\n",
    "    for producto, precio in precios_maximos.items():\n",
    "        if \"cebolla\" == producto:\n",
    "            precio = precio * 0.01\n",
    "\n",
    "        if precio > precio_maximo:\n",
    "            precio_maximo = precio\n",
    "            producto_caro = producto\n",
    "    return producto_caro \n",
    "\n",
    "print(producto_caro(precios_maximos))"
   ]
  },
  {
   "cell_type": "markdown",
   "metadata": {},
   "source": [
    "+ ¿Que dıa son más caras las naranjas?"
   ]
  },
  {
   "cell_type": "code",
   "execution_count": null,
   "metadata": {},
   "outputs": [
    {
     "data": {
      "text/plain": [
       "Martes\n"
      ]
     },
     "metadata": {},
     "output_type": "display_data"
    }
   ],
   "source": [
    "def dia_mas_caro(precio_origen:dict, producto:str) -> str:\n",
    "    dias=[\"Lunes\",\"Martes\",\"Miercoles\", \"Jueves\", \"Viernes\", \"Sabado\", \"Domingo\"]\n",
    "\n",
    "    if producto not in precio_origen:\n",
    "        raise Exception(\"El producto %s no existe\" % producto)\n",
    "    \n",
    "    precios_producto = precio_origen[producto]\n",
    "    idx_dia = precios_producto.index(max(precios_producto) % len(dias))\n",
    "    \n",
    "    return(dias[idx_dia])\n",
    "\n",
    "print(dia_mas_caro(precio_origen, \"naranja\"))"
   ]
  }
 ],
 "metadata": {
  "kernelspec": {
   "display_name": "Python 3",
   "language": "python",
   "name": "python3"
  },
  "language_info": {
   "name": "python",
   "version": "3.11.9"
  }
 },
 "nbformat": 4,
 "nbformat_minor": 2
}
